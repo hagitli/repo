{
  "nbformat": 4,
  "nbformat_minor": 0,
  "metadata": {
    "colab": {
      "name": "Copy of Untitled0.ipynb",
      "provenance": [],
      "collapsed_sections": [],
      "toc_visible": true,
      "machine_shape": "hm",
      "mount_file_id": "1gyzk9nMyP98dU1tsHAKbT_RoUtvNgc_n",
      "authorship_tag": "ABX9TyO6IaYOmiZnectNQ9L5iUhF",
      "include_colab_link": true
    },
    "kernelspec": {
      "name": "python3",
      "display_name": "Python 3"
    },
    "accelerator": "TPU"
  },
  "cells": [
    {
      "cell_type": "markdown",
      "metadata": {
        "id": "view-in-github",
        "colab_type": "text"
      },
      "source": [
        "<a href=\"https://colab.research.google.com/github/hagitli/repo/blob/master/Copy_of_Untitled0.ipynb\" target=\"_parent\"><img src=\"https://colab.research.google.com/assets/colab-badge.svg\" alt=\"Open In Colab\"/></a>"
      ]
    },
    {
      "cell_type": "code",
      "metadata": {
        "id": "u0dUhEqmRP3a",
        "colab_type": "code",
        "outputId": "011d9805-4a3f-4389-8dd5-e11a64f5604c",
        "colab": {
          "base_uri": "https://localhost:8080/",
          "height": 154
        }
      },
      "source": [
        "from google.colab import drive \n",
        "drive.mount('/mntDrive')\n",
        "! ls \"/mntDrive/My Drive\""
      ],
      "execution_count": 4,
      "outputs": [
        {
          "output_type": "stream",
          "text": [
            "Go to this URL in a browser: https://accounts.google.com/o/oauth2/auth?client_id=947318989803-6bn6qk8qdgf4n4g3pfee6491hc0brc4i.apps.googleusercontent.com&redirect_uri=urn%3aietf%3awg%3aoauth%3a2.0%3aoob&response_type=code&scope=email%20https%3a%2f%2fwww.googleapis.com%2fauth%2fdocs.test%20https%3a%2f%2fwww.googleapis.com%2fauth%2fdrive%20https%3a%2f%2fwww.googleapis.com%2fauth%2fdrive.photos.readonly%20https%3a%2f%2fwww.googleapis.com%2fauth%2fpeopleapi.readonly\n",
            "\n",
            "Enter your authorization code:\n",
            "··········\n",
            "Mounted at /mntDrive\n",
            "'Colab Notebooks'  'Fruit Classification.gform'   trainData.csv\n",
            " DataSQLite.db\t    testData.csv\t\t 'טופס ללא כותרת.gform'\n"
          ],
          "name": "stdout"
        }
      ]
    },
    {
      "cell_type": "code",
      "metadata": {
        "id": "D55B8Po3V2Sh",
        "colab_type": "code",
        "outputId": "f6529fd2-0ca1-40f2-8ba8-559ea5b722f8",
        "colab": {
          "base_uri": "https://localhost:8080/",
          "height": 34
        }
      },
      "source": [
        "\n",
        "import sqlite3\n",
        "from sqlite3 import Error\n",
        "import csv\n",
        "\n",
        "DB_FILE_PATH = '/mntDrive/My Drive/DataSQLite.db'\n",
        "CSV_FILE_PATH = '/mntDrive/My Drive/testData.csv'\n",
        "\n",
        "def connect_to_db(db_file):\n",
        "    sqlite3_conn = None\n",
        "    try:\n",
        "        sqlite3_conn = sqlite3.connect(db_file)\n",
        "        return sqlite3_conn\n",
        "    except Error as err:\n",
        "        print(err)\n",
        "\n",
        "        if sqlite3_conn is not None:\n",
        "            sqlite3_conn.close()\n",
        "\n",
        "def insert_values_to_table(table_name, csv_file_path):\n",
        "\n",
        "    conn = connect_to_db(DB_FILE_PATH)\n",
        "    if conn is not None:\n",
        "        c = conn.cursor()\n",
        "        # Create table if it is not exist\n",
        "        c.execute('CREATE TABLE IF NOT EXISTS ' + table_name +\n",
        "                  '(review_ID VARCHAR,'\n",
        "                  'user_id  VARCHAR,'\n",
        "                  'business_id  VARCHAR,'\n",
        "                  'ratings  INTEGER,'\n",
        "                  'text VARCHAR)')\n",
        "\n",
        "        # Read CSV file content\n",
        "        values_to_insert = open_csv_file(csv_file_path)\n",
        "\n",
        "        # Insert to table\n",
        "        if len(values_to_insert) > 0:\n",
        "            column_names, column_numbers = get_column_names_from_db_table(c, table_name)\n",
        "\n",
        "            values_str = '?,' * column_numbers\n",
        "            values_str = values_str[:-1]\n",
        "            sql_query = 'INSERT INTO ' + table_name + '(' + column_names + ') VALUES (' + values_str + ')'\n",
        "            c.executemany(sql_query, values_to_insert)\n",
        "            conn.commit()\n",
        "\n",
        "            print('SQL insert process finished')\n",
        "        else:\n",
        "            print('Nothing to insert')\n",
        "\n",
        "        conn.close()\n",
        "\n",
        "    else:\n",
        "        print('Connection to database failed')\n",
        "\n",
        "\n",
        "def open_csv_file(csv_file_path):\n",
        "    with open(csv_file_path, 'r', encoding='utf-8') as csv_file:\n",
        "        reader = csv.reader(csv_file)\n",
        "        next(reader)\n",
        "        data = list()\n",
        "        for row in reader:\n",
        "            data.append(row)\n",
        "        return data\n",
        "\n",
        "def get_column_names_from_db_table(sql_cursor, table_name):\n",
        "\n",
        "    table_column_names = 'PRAGMA table_info(' + table_name + ');'\n",
        "    sql_cursor.execute(table_column_names)\n",
        "    table_column_names = sql_cursor.fetchall()\n",
        "    column_count = len(table_column_names)\n",
        "    column_names = list()\n",
        "\n",
        "    for name in table_column_names:\n",
        "        column_names.append(name[1])\n",
        "\n",
        "    return ', '.join(column_names), column_count\n",
        "\n",
        "if __name__ == '__main__':\n",
        "    insert_values_to_table('yelp', CSV_FILE_PATH)\n"
      ],
      "execution_count": 7,
      "outputs": [
        {
          "output_type": "stream",
          "text": [
            "SQL insert process finished\n"
          ],
          "name": "stdout"
        }
      ]
    },
    {
      "cell_type": "code",
      "metadata": {
        "id": "r6hmUhj-tvNb",
        "colab_type": "code",
        "outputId": "e9ea708c-ae7e-4ce2-f290-491ec3d665d1",
        "colab": {
          "base_uri": "https://localhost:8080/",
          "height": 50
        }
      },
      "source": [
        "def create_small_table(conn):\n",
        "  cur = conn.cursor()\n",
        "  cur.execute('CREATE TABLE IF NOT EXISTS yelp_mod AS SELECT user_id,business_id,ratings FROM yelp')\n",
        "\n",
        "def select_all(conn):\n",
        "    cur = conn.cursor()\n",
        "    cur.execute(\"SELECT count(*) FROM yelp_mod\")\n",
        "    rows = cur.fetchall() \n",
        "    for row in rows:\n",
        "        print(row)\n",
        "\n",
        "def main():\n",
        "    # create a database connection\n",
        "    conn = connect_to_db(DB_FILE_PATH)\n",
        "    with conn:\n",
        "        print(\"Query all\")\n",
        "        create_small_table(conn)\n",
        "        select_all(conn)\n",
        " \n",
        "if __name__ == '__main__':\n",
        "    main()"
      ],
      "execution_count": 8,
      "outputs": [
        {
          "output_type": "stream",
          "text": [
            "Query all\n",
            "(1052334,)\n"
          ],
          "name": "stdout"
        }
      ]
    },
    {
      "cell_type": "code",
      "metadata": {
        "id": "rImavbn06n_f",
        "colab_type": "code",
        "colab": {}
      },
      "source": [
        "import pandas as pd\n",
        "import numpy as np\n",
        "# Create your connection.\n",
        "conn = connect_to_db(DB_FILE_PATH)\n",
        "#df = pd.read_sql_query(\"SELECT DISTINCT count(user_id) FROM yelp_mod\", conn) #1052334\n",
        "df_uid = pd.read_sql_query(\"SELECT DISTINCT user_id FROM yelp_mod\", conn)\n",
        "df_bid = pd.read_sql_query(\"SELECT DISTINCT business_id FROM yelp_mod\", conn)\n",
        "df_ratings = pd.read_sql_query(\"SELECT * FROM yelp_mod\", conn)\n",
        "df_ratings = df_ratings.reindex(columns = df_ratings.columns.tolist() + ['user_index','bus_index'])\n",
        "#print(df_ratings.head())\n",
        "#def create_matrix(df)"
      ],
      "execution_count": 0,
      "outputs": []
    },
    {
      "cell_type": "code",
      "metadata": {
        "id": "rgEMEWwt72UV",
        "colab_type": "code",
        "colab": {}
      },
      "source": [
        "\n",
        "df_bid =np.transpose(df_bid)\n",
        "#rating_matrix=df_bid@df_uid"
      ],
      "execution_count": 0,
      "outputs": []
    },
    {
      "cell_type": "code",
      "metadata": {
        "id": "O9PyOwvmEqf4",
        "colab_type": "code",
        "colab": {
          "base_uri": "https://localhost:8080/",
          "height": 50
        },
        "outputId": "d91c181e-190f-49e3-aaab-e281e3a67c08"
      },
      "source": [
        "print(df_bid.shape)\n",
        "print(df_uid.shape)\n",
        "#rating_matrix=np.dot(df_uid,df_bid)\n",
        "#rating_matrix=np.outer(df_uid,df_bid)"
      ],
      "execution_count": 17,
      "outputs": [
        {
          "output_type": "stream",
          "text": [
            "(138544, 1)\n",
            "(504159, 1)\n"
          ],
          "name": "stdout"
        }
      ]
    },
    {
      "cell_type": "code",
      "metadata": {
        "id": "t4wlwuom8s_E",
        "colab_type": "code",
        "colab": {
          "base_uri": "https://localhost:8080/",
          "height": 403
        },
        "outputId": "14967abf-4e68-4ceb-ef81-e609342ca57c"
      },
      "source": [
        "import numpy as np\n",
        "print(df_bid.head())\n",
        "print(df_uid.head())\n",
        "print(df_ratings.head(10))"
      ],
      "execution_count": 16,
      "outputs": [
        {
          "output_type": "stream",
          "text": [
            "              business_id\n",
            "0  NCHS7mgfVAf6EbYVb2qSSQ\n",
            "1  ZV1DPIxOWvYuU0lHPj7SDw\n",
            "2  t10X85k_m8RuAZZgoMzvXg\n",
            "3  NhNO2lN-p1RvA4MfR1wk1A\n",
            "4  CVKOPzBVOj3_apFUmZ9ZWw\n",
            "                  user_id\n",
            "0  SQP77ENmGEyVD4uUmmvJNw\n",
            "1  NtD-rHQYR0Ke2uMGArABoA\n",
            "2  51SzvpuYXsIXdc13w0jcEQ\n",
            "3  g_-8Wg_s7dw4CMzaY2CAMA\n",
            "4  VDFXrJXhrNRBVUH68-yW4A\n",
            "                  user_id             business_id  stars  user_index  bus_index\n",
            "0  SQP77ENmGEyVD4uUmmvJNw  NCHS7mgfVAf6EbYVb2qSSQ      2         NaN        NaN\n",
            "1  NtD-rHQYR0Ke2uMGArABoA  ZV1DPIxOWvYuU0lHPj7SDw      4         NaN        NaN\n",
            "2  51SzvpuYXsIXdc13w0jcEQ  t10X85k_m8RuAZZgoMzvXg      3         NaN        NaN\n",
            "3  g_-8Wg_s7dw4CMzaY2CAMA  NhNO2lN-p1RvA4MfR1wk1A      4         NaN        NaN\n",
            "4  VDFXrJXhrNRBVUH68-yW4A  CVKOPzBVOj3_apFUmZ9ZWw      5         NaN        NaN\n",
            "5  wYS8IObqNIFbpPwDkDTpFA  XTYEhwaaO_YjXcOGL_uBIQ      5         NaN        NaN\n",
            "6  4xr9F4DK5anCTDZzLjfkiQ  CGd8erq6Ojn834pQ0gpRqA      5         NaN        NaN\n",
            "7  9SXy2gvJkTAB9_tLQM-4bQ  u_s0zWoTlX7PoYDjtKAK2w      1         NaN        NaN\n",
            "8  i867LBURP1x9VaSaxuH5yA  NvKNe9DnQavC9GstglcBJQ      5         NaN        NaN\n",
            "9  EisUuXVeVJN_FcFiE-tqwA  OaiMds5_9rq9NHw8udlWFg      2         NaN        NaN\n"
          ],
          "name": "stdout"
        }
      ]
    },
    {
      "cell_type": "code",
      "metadata": {
        "id": "y3vZEborFPwq",
        "colab_type": "code",
        "colab": {
          "base_uri": "https://localhost:8080/",
          "height": 50
        },
        "outputId": "3bae7493-72b5-4323-8c41-d6df1341cb21"
      },
      "source": [
        "print(df_ratings['user_id'][1])\n",
        "print(df_uid['user_id'][1])"
      ],
      "execution_count": 30,
      "outputs": [
        {
          "output_type": "stream",
          "text": [
            "NtD-rHQYR0Ke2uMGArABoA\n",
            "NtD-rHQYR0Ke2uMGArABoA\n"
          ],
          "name": "stdout"
        }
      ]
    },
    {
      "cell_type": "code",
      "metadata": {
        "id": "OJOXBvwRCK7J",
        "colab_type": "code",
        "colab": {
          "base_uri": "https://localhost:8080/",
          "height": 438
        },
        "outputId": "23b1d85f-171c-4ecb-d5ba-b66e7504d13a"
      },
      "source": [
        "for i in range(len(df_ratings)):\n",
        "  for j in range(len(df_uid)):\n",
        "    if df_ratings['user_id'][i]==df_uid['user_id'][j]:\n",
        "      df_ratings['user_index'][i]=j\n"
      ],
      "execution_count": 38,
      "outputs": [
        {
          "output_type": "stream",
          "text": [
            "/usr/local/lib/python3.6/dist-packages/ipykernel_launcher.py:4: SettingWithCopyWarning: \n",
            "A value is trying to be set on a copy of a slice from a DataFrame\n",
            "\n",
            "See the caveats in the documentation: http://pandas.pydata.org/pandas-docs/stable/user_guide/indexing.html#returning-a-view-versus-a-copy\n",
            "  after removing the cwd from sys.path.\n"
          ],
          "name": "stderr"
        },
        {
          "output_type": "error",
          "ename": "KeyboardInterrupt",
          "evalue": "ignored",
          "traceback": [
            "\u001b[0;31m---------------------------------------------------------------------------\u001b[0m",
            "\u001b[0;31mKeyboardInterrupt\u001b[0m                         Traceback (most recent call last)",
            "\u001b[0;32m<ipython-input-38-02573a0e19c1>\u001b[0m in \u001b[0;36m<module>\u001b[0;34m()\u001b[0m\n\u001b[1;32m      1\u001b[0m \u001b[0;32mfor\u001b[0m \u001b[0mi\u001b[0m \u001b[0;32min\u001b[0m \u001b[0mrange\u001b[0m\u001b[0;34m(\u001b[0m\u001b[0mlen\u001b[0m\u001b[0;34m(\u001b[0m\u001b[0mdf_ratings\u001b[0m\u001b[0;34m)\u001b[0m\u001b[0;34m)\u001b[0m\u001b[0;34m:\u001b[0m\u001b[0;34m\u001b[0m\u001b[0;34m\u001b[0m\u001b[0m\n\u001b[1;32m      2\u001b[0m   \u001b[0;32mfor\u001b[0m \u001b[0mj\u001b[0m \u001b[0;32min\u001b[0m \u001b[0mrange\u001b[0m\u001b[0;34m(\u001b[0m\u001b[0mlen\u001b[0m\u001b[0;34m(\u001b[0m\u001b[0mdf_uid\u001b[0m\u001b[0;34m)\u001b[0m\u001b[0;34m)\u001b[0m\u001b[0;34m:\u001b[0m\u001b[0;34m\u001b[0m\u001b[0;34m\u001b[0m\u001b[0m\n\u001b[0;32m----> 3\u001b[0;31m     \u001b[0;32mif\u001b[0m \u001b[0mdf_ratings\u001b[0m\u001b[0;34m[\u001b[0m\u001b[0;34m'user_id'\u001b[0m\u001b[0;34m]\u001b[0m\u001b[0;34m[\u001b[0m\u001b[0mi\u001b[0m\u001b[0;34m]\u001b[0m\u001b[0;34m==\u001b[0m\u001b[0mdf_uid\u001b[0m\u001b[0;34m[\u001b[0m\u001b[0;34m'user_id'\u001b[0m\u001b[0;34m]\u001b[0m\u001b[0;34m[\u001b[0m\u001b[0mj\u001b[0m\u001b[0;34m]\u001b[0m\u001b[0;34m:\u001b[0m\u001b[0;34m\u001b[0m\u001b[0;34m\u001b[0m\u001b[0m\n\u001b[0m\u001b[1;32m      4\u001b[0m       \u001b[0mdf_ratings\u001b[0m\u001b[0;34m[\u001b[0m\u001b[0;34m'user_index'\u001b[0m\u001b[0;34m]\u001b[0m\u001b[0;34m[\u001b[0m\u001b[0mi\u001b[0m\u001b[0;34m]\u001b[0m\u001b[0;34m=\u001b[0m\u001b[0mj\u001b[0m\u001b[0;34m\u001b[0m\u001b[0;34m\u001b[0m\u001b[0m\n",
            "\u001b[0;32m/usr/local/lib/python3.6/dist-packages/pandas/core/series.py\u001b[0m in \u001b[0;36m__getitem__\u001b[0;34m(self, key)\u001b[0m\n\u001b[1;32m   1069\u001b[0m         \u001b[0mkey\u001b[0m \u001b[0;34m=\u001b[0m \u001b[0mcom\u001b[0m\u001b[0;34m.\u001b[0m\u001b[0mapply_if_callable\u001b[0m\u001b[0;34m(\u001b[0m\u001b[0mkey\u001b[0m\u001b[0;34m,\u001b[0m \u001b[0mself\u001b[0m\u001b[0;34m)\u001b[0m\u001b[0;34m\u001b[0m\u001b[0;34m\u001b[0m\u001b[0m\n\u001b[1;32m   1070\u001b[0m         \u001b[0;32mtry\u001b[0m\u001b[0;34m:\u001b[0m\u001b[0;34m\u001b[0m\u001b[0;34m\u001b[0m\u001b[0m\n\u001b[0;32m-> 1071\u001b[0;31m             \u001b[0mresult\u001b[0m \u001b[0;34m=\u001b[0m \u001b[0mself\u001b[0m\u001b[0;34m.\u001b[0m\u001b[0mindex\u001b[0m\u001b[0;34m.\u001b[0m\u001b[0mget_value\u001b[0m\u001b[0;34m(\u001b[0m\u001b[0mself\u001b[0m\u001b[0;34m,\u001b[0m \u001b[0mkey\u001b[0m\u001b[0;34m)\u001b[0m\u001b[0;34m\u001b[0m\u001b[0;34m\u001b[0m\u001b[0m\n\u001b[0m\u001b[1;32m   1072\u001b[0m \u001b[0;34m\u001b[0m\u001b[0m\n\u001b[1;32m   1073\u001b[0m             \u001b[0;32mif\u001b[0m \u001b[0;32mnot\u001b[0m \u001b[0mis_scalar\u001b[0m\u001b[0;34m(\u001b[0m\u001b[0mresult\u001b[0m\u001b[0;34m)\u001b[0m\u001b[0;34m:\u001b[0m\u001b[0;34m\u001b[0m\u001b[0;34m\u001b[0m\u001b[0m\n",
            "\u001b[0;32m/usr/local/lib/python3.6/dist-packages/pandas/core/indexes/base.py\u001b[0m in \u001b[0;36mget_value\u001b[0;34m(self, series, key)\u001b[0m\n\u001b[1;32m   4707\u001b[0m         \u001b[0;31m# Things like `Series._get_value` (via .at) pass the EA directly here.\u001b[0m\u001b[0;34m\u001b[0m\u001b[0;34m\u001b[0m\u001b[0;34m\u001b[0m\u001b[0m\n\u001b[1;32m   4708\u001b[0m         \u001b[0ms\u001b[0m \u001b[0;34m=\u001b[0m \u001b[0mgetattr\u001b[0m\u001b[0;34m(\u001b[0m\u001b[0mseries\u001b[0m\u001b[0;34m,\u001b[0m \u001b[0;34m\"_values\"\u001b[0m\u001b[0;34m,\u001b[0m \u001b[0mseries\u001b[0m\u001b[0;34m)\u001b[0m\u001b[0;34m\u001b[0m\u001b[0;34m\u001b[0m\u001b[0m\n\u001b[0;32m-> 4709\u001b[0;31m         \u001b[0;32mif\u001b[0m \u001b[0misinstance\u001b[0m\u001b[0;34m(\u001b[0m\u001b[0ms\u001b[0m\u001b[0;34m,\u001b[0m \u001b[0;34m(\u001b[0m\u001b[0mExtensionArray\u001b[0m\u001b[0;34m,\u001b[0m \u001b[0mIndex\u001b[0m\u001b[0;34m)\u001b[0m\u001b[0;34m)\u001b[0m \u001b[0;32mand\u001b[0m \u001b[0mis_scalar\u001b[0m\u001b[0;34m(\u001b[0m\u001b[0mkey\u001b[0m\u001b[0;34m)\u001b[0m\u001b[0;34m:\u001b[0m\u001b[0;34m\u001b[0m\u001b[0;34m\u001b[0m\u001b[0m\n\u001b[0m\u001b[1;32m   4710\u001b[0m             \u001b[0;31m# GH 20882, 21257\u001b[0m\u001b[0;34m\u001b[0m\u001b[0;34m\u001b[0m\u001b[0;34m\u001b[0m\u001b[0m\n\u001b[1;32m   4711\u001b[0m             \u001b[0;31m# Unify Index and ExtensionArray treatment\u001b[0m\u001b[0;34m\u001b[0m\u001b[0;34m\u001b[0m\u001b[0;34m\u001b[0m\u001b[0m\n",
            "\u001b[0;31mKeyboardInterrupt\u001b[0m: "
          ]
        }
      ]
    },
    {
      "cell_type": "code",
      "metadata": {
        "id": "OwEzIu7knVmz",
        "colab_type": "code",
        "colab": {
          "base_uri": "https://localhost:8080/",
          "height": 50
        },
        "outputId": "e850d817-c7d8-48f8-d0a9-93329c2fbe60"
      },
      "source": [
        "#RMSE Calculation\n",
        "import numpy as np\n",
        "import math\n",
        "def rmse(pred,target):\n",
        "  result=0\n",
        "  temp_sum=0\n",
        "  for i in range(len(pred)-1):\n",
        "    temp_sum+=((pred[i]-target[i])**2)*target[i]\n",
        "  result=temp_sum/len(pred)\n",
        "  return math.sqrt(result)\n",
        "\n",
        "#a=np.array([2, 5, 1])\n",
        "#b=np.array([2, 1, 4])\n",
        "#print (rmse(a,b))"
      ],
      "execution_count": 49,
      "outputs": [
        {
          "output_type": "stream",
          "text": [
            "3\n",
            "2.309401076758503\n"
          ],
          "name": "stdout"
        }
      ]
    },
    {
      "cell_type": "code",
      "metadata": {
        "id": "ivB-GZ0v7KgP",
        "colab_type": "code",
        "colab": {
          "base_uri": "https://localhost:8080/",
          "height": 162
        },
        "outputId": "e2480fcf-ef4c-4da9-8eea-229708696d6e"
      },
      "source": [
        "print (rating_matrix.shape)"
      ],
      "execution_count": 1,
      "outputs": [
        {
          "output_type": "error",
          "ename": "NameError",
          "evalue": "ignored",
          "traceback": [
            "\u001b[0;31m---------------------------------------------------------------------------\u001b[0m",
            "\u001b[0;31mNameError\u001b[0m                                 Traceback (most recent call last)",
            "\u001b[0;32m<ipython-input-1-78f567d09a46>\u001b[0m in \u001b[0;36m<module>\u001b[0;34m()\u001b[0m\n\u001b[0;32m----> 1\u001b[0;31m \u001b[0mprint\u001b[0m \u001b[0;34m(\u001b[0m\u001b[0mrating_matrix\u001b[0m\u001b[0;34m.\u001b[0m\u001b[0mshape\u001b[0m\u001b[0;34m)\u001b[0m\u001b[0;34m\u001b[0m\u001b[0;34m\u001b[0m\u001b[0m\n\u001b[0m",
            "\u001b[0;31mNameError\u001b[0m: name 'rating_matrix' is not defined"
          ]
        }
      ]
    },
    {
      "cell_type": "code",
      "metadata": {
        "id": "rSshzYB2sCL3",
        "colab_type": "code",
        "colab": {
          "base_uri": "https://localhost:8080/",
          "height": 34
        },
        "outputId": "2aa151e3-936f-4513-eb4a-b59493bbb15f"
      },
      "source": [
        "from sklearn.metrics import mean_squared_error\n",
        "from math import sqrt\n",
        "rmse2 = sqrt(mean_squared_error(a, b))\n",
        "\n",
        "print(rmse2)"
      ],
      "execution_count": 44,
      "outputs": [
        {
          "output_type": "stream",
          "text": [
            "2.886751345948129\n"
          ],
          "name": "stdout"
        }
      ]
    }
  ]
}